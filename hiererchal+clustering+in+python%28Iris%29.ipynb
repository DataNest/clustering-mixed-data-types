{
 "cells": [
  {
   "cell_type": "code",
   "execution_count": 1,
   "metadata": {
    "collapsed": false
   },
   "outputs": [
    {
     "name": "stdout",
     "output_type": "stream",
     "text": [
      "C:\\Users\\Marci\n"
     ]
    }
   ],
   "source": [
    "import numpy as np\n",
    "import pandas as pd\n",
    "import os\n",
    "cwd = os.getcwd()\n",
    "print(cwd)"
   ]
  },
  {
   "cell_type": "code",
   "execution_count": 34,
   "metadata": {
    "collapsed": false
   },
   "outputs": [],
   "source": [
    "data = pd.read_csv(\"Desktop/Iris.csv\")\n",
    "iris = data"
   ]
  },
  {
   "cell_type": "code",
   "execution_count": 3,
   "metadata": {
    "collapsed": false
   },
   "outputs": [
    {
     "name": "stdout",
     "output_type": "stream",
     "text": [
      "['Iris-setosa', 'Iris-versicolor', 'Iris-virginica']\n",
      "0    0\n",
      "1    0\n",
      "2    0\n",
      "3    0\n",
      "4    0\n",
      "Name: Species, dtype: int64\n",
      "50    1\n",
      "51    1\n",
      "52    1\n",
      "53    1\n",
      "54    1\n",
      "Name: Species, dtype: int64\n",
      "100    2\n",
      "101    2\n",
      "102    2\n",
      "103    2\n",
      "104    2\n",
      "Name: Species, dtype: int64\n",
      "For n_clusters = 3  The adjusted rand_score is: 0.7302382722834697\n",
      "For n_clusters = 2 The average silhouette_score is: 0.680813620294\n",
      "For n_clusters = 2 The adjusted rand_score is: 0.5399218294207123\n",
      "For n_clusters = 3 The average silhouette_score is: 0.55259194455\n",
      "For n_clusters = 3 The adjusted rand_score is: 0.7302382722834697\n",
      "For n_clusters = 4 The average silhouette_score is: 0.49782569011\n",
      "For n_clusters = 4 The adjusted rand_score is: 0.6498176853819967\n",
      "For n_clusters = 5 The average silhouette_score is: 0.488517550889\n",
      "For n_clusters = 5 The adjusted rand_score is: 0.6078964652364223\n",
      "For n_clusters = 6 The average silhouette_score is: 0.371218050546\n",
      "For n_clusters = 6 The adjusted rand_score is: 0.45370649337406077\n",
      "For n_clusters = 7 The average silhouette_score is: 0.360059799733\n",
      "For n_clusters = 7 The adjusted rand_score is: 0.4806369060934766\n",
      "For n_clusters = 8 The average silhouette_score is: 0.360374970804\n",
      "For n_clusters = 8 The adjusted rand_score is: 0.4650880794385831\n",
      "For n_clusters = 9 The average silhouette_score is: 0.313307006972\n",
      "For n_clusters = 9 The adjusted rand_score is: 0.38915214673323906\n",
      "For n_clusters = 10 The average silhouette_score is: 0.308014583549\n",
      "For n_clusters = 10 The adjusted rand_score is: 0.3518140292400842\n",
      "For n_clusters = 2 The average silhouette_score is: 0.686393054345\n",
      "For n_clusters = 2 The adjusted rand_score is: 0.5681159420289855\n",
      "For n_clusters = 3 The average silhouette_score is: 0.554097290815\n",
      "For n_clusters = 3 The adjusted rand_score is: 0.7311985567707745\n",
      "For n_clusters = 4 The average silhouette_score is: 0.4887398491\n",
      "For n_clusters = 4 The adjusted rand_score is: 0.660216985695529\n",
      "For n_clusters = 5 The average silhouette_score is: 0.484155352624\n",
      "For n_clusters = 5 The adjusted rand_score is: 0.59502294387575\n",
      "For n_clusters = 6 The average silhouette_score is: 0.361884515226\n",
      "For n_clusters = 6 The adjusted rand_score is: 0.4338724202163749\n",
      "For n_clusters = 7 The average silhouette_score is: 0.344854089627\n",
      "For n_clusters = 7 The adjusted rand_score is: 0.4461879605458157\n",
      "For n_clusters = 8 The average silhouette_score is: 0.346240531221\n",
      "For n_clusters = 8 The adjusted rand_score is: 0.4231914319602951\n",
      "For n_clusters = 9 The average silhouette_score is: 0.333138506596\n",
      "For n_clusters = 9 The adjusted rand_score is: 0.40020570658438404\n",
      "For n_clusters = 10 The average silhouette_score is: 0.329160311639\n",
      "For n_clusters = 10 The adjusted rand_score is: 0.37093951131669656\n"
     ]
    }
   ],
   "source": [
    "iris = pd.read_csv(\"Desktop/Iris.csv\")\n",
    "\n",
    "from sklearn.preprocessing import LabelEncoder\n",
    "from sklearn.cluster import KMeans\n",
    "from sklearn.cluster import AgglomerativeClustering\n",
    "from sklearn.metrics import silhouette_score\n",
    "from sklearn.metrics import adjusted_rand_score\n",
    "\n",
    "iris = pd.read_csv(\"Desktop/Iris.csv\")\n",
    "print(iris.shape)\n",
    "print(\"Each type of iris flower has 50 observations)\n",
    "print(iris.Species.value_counts())\n",
    "print(\"Label encoding of Species column\")\n",
    "le = LabelEncoder()\n",
    "le.fit(iris['Species'])\n",
    "print(list(le.classes_))\n",
    "iris['Species'] = le.transform(iris['Species'])\n",
    "# So after encoding 0 refers to Iris-setosa, 1 refers to Iris-versicolor, 2 refers to Iris-virginica\n",
    "print(iris['Species'][0:5])\n",
    "print(iris['Species'][50:55])\n",
    "print(iris['Species'][100:105])\n",
    "# Converting into numpy matrix\n",
    "iris_matrix = pd.DataFrame.as_matrix(iris[['SepalLengthCm','SepalWidthCm','PetalLengthCm','PetalWidthCm']])\n",
    "# Building KMeans Clustering model with 3 clusters since we know the iris dataset has three classes of iris flower\n",
    "# And so ideally thinking they should be in 3 different clusters (but this maynot be the case)\n",
    "cluster_model = KMeans(n_clusters=3, random_state=10)\n",
    "cluster_labels = cluster_model.fit_predict(iris_matrix)\n",
    "adj_rand_score = adjusted_rand_score(iris['Species'],cluster_labels)\n",
    "print (\"For n_clusters = 3 \", \n",
    "          \"The adjusted rand_score is:\", adj_rand_score)\n",
    "# In case we don't know prior the true labels in the dataset, and can't decide on number of clusters which should be given to KMeans.\n",
    "# We can then build many KMeans clustering model and check the Silhouette Score of each of the clustering model.\n",
    "# A higher Silhouette Coefficeint score relates to a model with better defined clusters.\n",
    "# For more information on Silhouette Score look at http://scikit-learn.org/stable/modules/clustering.html#silhouette-coefficient\n",
    "# Below we build 10 KMeans clustering model & check the Silhouette Score & Adjusted Rand score of each of the model. \n",
    "for n_clusters in range(2,11):\n",
    "    cluster_model = KMeans(n_clusters=n_clusters, random_state=10)\n",
    "    cluster_labels = cluster_model.fit_predict(iris_matrix)\n",
    "    silhouette_avg = silhouette_score(iris_matrix,cluster_labels,metric='euclidean')\n",
    "    adj_rand_score = adjusted_rand_score(iris['Species'],cluster_labels)\n",
    "    print(\"For n_clusters =\", n_clusters, \n",
    "          \"The average silhouette_score is:\", silhouette_avg)\n",
    "    print (\"For n_clusters =\", n_clusters, \n",
    "          \"The adjusted rand_score is:\", adj_rand_score)\n",
    "# From above results it can be seen that Silhouette Score is highest for 2 clusters \n",
    "# and Adjusted Rand Score is greatest for 3 clusters.\n",
    "# Silhouette Score is highest for 2 clusters because Silhouette score is more for better defined & separated clusters.\n",
    "# And as can be seen in below plot there are 2 distinct & better separated clusters.\n",
    "# Adjusted Rand Score measures the similarity between true labels & predicted labels(obtained by clustering).\n",
    "# Plot Copied from https://www.kaggle.com/benhamner/d/uciml/iris/python-data-visualizations/notebook\n",
    "from pandas.tools.plotting import radviz\n",
    "radviz(iris.drop(\"Id\", axis=1), \"Species\")\n",
    "# Now let us apply Hierarchical Clustering which is implemented in scikit-learn as AgglomerativeClustering\n",
    "for n_clusters in range(2,11):\n",
    "    cluster_model = AgglomerativeClustering(n_clusters=n_clusters, affinity='euclidean',linkage='ward')\n",
    "    cluster_labels = cluster_model.fit_predict(iris_matrix)\n",
    "    silhouette_avg = silhouette_score(iris_matrix,cluster_labels,metric='euclidean')\n",
    "    adj_rand_score = adjusted_rand_score(iris['Species'],cluster_labels)\n",
    "    print(\"For n_clusters =\", n_clusters, \n",
    "          \"The average silhouette_score is:\", silhouette_avg)\n",
    "    print (\"For n_clusters =\", n_clusters, \n",
    "          \"The adjusted rand_score is:\", adj_rand_score)"
   ]
  },
  {
   "cell_type": "code",
   "execution_count": 4,
   "metadata": {
    "collapsed": false
   },
   "outputs": [],
   "source": [
    "data = data.drop('Id',1)"
   ]
  },
  {
   "cell_type": "code",
   "execution_count": 18,
   "metadata": {
    "collapsed": true
   },
   "outputs": [],
   "source": [
    "data = pd.get_dummies(data)\n",
    "data"
   ]
  },
  {
   "cell_type": "code",
   "execution_count": 6,
   "metadata": {
    "collapsed": true
   },
   "outputs": [],
   "source": [
    "# arr_ip = [tuple(i) for i in data.as_matrix()]"
   ]
  },
  {
   "cell_type": "code",
   "execution_count": 7,
   "metadata": {
    "collapsed": true
   },
   "outputs": [],
   "source": [
    "# dtyp = np.dtype(list(zip(data.dtypes.index, data.dtypes)))"
   ]
  },
  {
   "cell_type": "code",
   "execution_count": 8,
   "metadata": {
    "collapsed": false,
    "scrolled": true
   },
   "outputs": [],
   "source": [
    "# arr = np.array(arr_ip, dtype=dtyp)\n",
    "# arr.dtype.names"
   ]
  },
  {
   "cell_type": "code",
   "execution_count": 9,
   "metadata": {
    "collapsed": false
   },
   "outputs": [
    {
     "data": {
      "text/plain": [
       "array([ 1.4,  0.2,  4.9,  3. ,  0. ])"
      ]
     },
     "execution_count": 9,
     "metadata": {},
     "output_type": "execute_result"
    }
   ],
   "source": [
    "#below is a simpler form of one hot encoding\n",
    "from sklearn.feature_extraction import DictVectorizer\n",
    "dvec = DictVectorizer(sparse=False)\n",
    "\n",
    "matrix = dvec.fit_transform(data.transpose().to_dict().values())\n",
    "names = list(data)\n",
    "matrix[1]"
   ]
  },
  {
   "cell_type": "code",
   "execution_count": 10,
   "metadata": {
    "collapsed": false
   },
   "outputs": [],
   "source": [
    "# myData = np.genfromtxt(\"Desktop\\Iris.csv\", names=True, delimiter=\",\")\n",
    "# # myData = np.delete(myData,1,1)\n",
    "# myData"
   ]
  },
  {
   "cell_type": "code",
   "execution_count": 11,
   "metadata": {
    "collapsed": false
   },
   "outputs": [],
   "source": [
    "#start of clustering process\n",
    "%matplotlib inline\n",
    "import matplotlib.pyplot as plt\n",
    "from scipy.spatial.distance import pdist, squareform\n",
    "from scipy.cluster.hierarchy import linkage, dendrogram\n",
    "\n",
    "data_dist = pdist(matrix) # computing the distance\n",
    "data_link = linkage(data_dist) # computing the linkage"
   ]
  },
  {
   "cell_type": "code",
   "execution_count": 25,
   "metadata": {
    "collapsed": false
   },
   "outputs": [
    {
     "data": {
      "text/plain": [
       "(150,)"
      ]
     },
     "execution_count": 25,
     "metadata": {},
     "output_type": "execute_result"
    }
   ],
   "source": [
    "labels = data[\"Species\"].values\n",
    "labels.shape"
   ]
  },
  {
   "cell_type": "code",
   "execution_count": 12,
   "metadata": {
    "collapsed": true
   },
   "outputs": [],
   "source": [
    "import numpy as np \n",
    "from scipy import ndimage \n",
    "from scipy.cluster import hierarchy \n",
    "from scipy.spatial import distance_matrix \n",
    "from matplotlib import pyplot as plt \n",
    "from sklearn import manifold, datasets \n",
    "from sklearn.cluster import AgglomerativeClustering \n",
    "from sklearn.datasets.samples_generator import make_blobs \n",
    "%matplotlib inline"
   ]
  },
  {
   "cell_type": "code",
   "execution_count": 13,
   "metadata": {
    "collapsed": true
   },
   "outputs": [],
   "source": [
    "Z = hierarchy.linkage(data_dist, 'complete')"
   ]
  },
  {
   "cell_type": "code",
   "execution_count": 26,
   "metadata": {
    "collapsed": false
   },
   "outputs": [
    {
     "data": {
      "image/png": "[encoded data removed]",
      "text/plain": [
       "<matplotlib.figure.Figure at 0x2107fb2b358>"
      ]
     },
     "metadata": {},
     "output_type": "display_data"
    }
   ],
   "source": [
    "dendro = hierarchy.dendrogram(Z, labels = labels)"
   ]
  },
  {
   "cell_type": "code",
   "execution_count": 35,
   "metadata": {
    "collapsed": false
   },
   "outputs": [
    {
     "data": {
      "text/plain": [
       "array(['Iris-setosa', 'Iris-setosa', 'Iris-setosa', 'Iris-setosa',\n",
       "       'Iris-setosa', 'Iris-setosa', 'Iris-setosa', 'Iris-setosa',\n",
       "       'Iris-setosa', 'Iris-setosa', 'Iris-setosa', 'Iris-setosa',\n",
       "       'Iris-setosa', 'Iris-setosa', 'Iris-setosa', 'Iris-setosa',\n",
       "       'Iris-setosa', 'Iris-setosa', 'Iris-setosa', 'Iris-setosa',\n",
       "       'Iris-setosa', 'Iris-setosa', 'Iris-setosa', 'Iris-setosa',\n",
       "       'Iris-setosa', 'Iris-setosa', 'Iris-setosa', 'Iris-setosa',\n",
       "       'Iris-setosa', 'Iris-setosa', 'Iris-setosa', 'Iris-setosa',\n",
       "       'Iris-setosa', 'Iris-setosa', 'Iris-setosa', 'Iris-setosa',\n",
       "       'Iris-setosa', 'Iris-setosa', 'Iris-setosa', 'Iris-setosa',\n",
       "       'Iris-setosa', 'Iris-setosa', 'Iris-setosa', 'Iris-setosa',\n",
       "       'Iris-setosa', 'Iris-setosa', 'Iris-setosa', 'Iris-setosa',\n",
       "       'Iris-setosa', 'Iris-setosa', 'Iris-versicolor', 'Iris-versicolor',\n",
       "       'Iris-versicolor', 'Iris-versicolor', 'Iris-versicolor',\n",
       "       'Iris-versicolor', 'Iris-versicolor', 'Iris-versicolor',\n",
       "       'Iris-versicolor', 'Iris-versicolor', 'Iris-versicolor',\n",
       "       'Iris-versicolor', 'Iris-versicolor', 'Iris-versicolor',\n",
       "       'Iris-versicolor', 'Iris-versicolor', 'Iris-versicolor',\n",
       "       'Iris-versicolor', 'Iris-versicolor', 'Iris-versicolor',\n",
       "       'Iris-versicolor', 'Iris-versicolor', 'Iris-versicolor',\n",
       "       'Iris-versicolor', 'Iris-versicolor', 'Iris-versicolor',\n",
       "       'Iris-versicolor', 'Iris-versicolor', 'Iris-versicolor',\n",
       "       'Iris-versicolor', 'Iris-versicolor', 'Iris-versicolor',\n",
       "       'Iris-versicolor', 'Iris-versicolor', 'Iris-versicolor',\n",
       "       'Iris-versicolor', 'Iris-versicolor', 'Iris-versicolor',\n",
       "       'Iris-versicolor', 'Iris-versicolor', 'Iris-versicolor',\n",
       "       'Iris-versicolor', 'Iris-versicolor', 'Iris-versicolor',\n",
       "       'Iris-versicolor', 'Iris-versicolor', 'Iris-versicolor',\n",
       "       'Iris-versicolor', 'Iris-versicolor', 'Iris-versicolor',\n",
       "       'Iris-virginica', 'Iris-virginica', 'Iris-virginica',\n",
       "       'Iris-virginica', 'Iris-virginica', 'Iris-virginica',\n",
       "       'Iris-virginica', 'Iris-virginica', 'Iris-virginica',\n",
       "       'Iris-virginica', 'Iris-virginica', 'Iris-virginica',\n",
       "       'Iris-virginica', 'Iris-virginica', 'Iris-virginica',\n",
       "       'Iris-virginica', 'Iris-virginica', 'Iris-virginica',\n",
       "       'Iris-virginica', 'Iris-virginica', 'Iris-virginica',\n",
       "       'Iris-virginica', 'Iris-virginica', 'Iris-virginica',\n",
       "       'Iris-virginica', 'Iris-virginica', 'Iris-virginica',\n",
       "       'Iris-virginica', 'Iris-virginica', 'Iris-virginica',\n",
       "       'Iris-virginica', 'Iris-virginica', 'Iris-virginica',\n",
       "       'Iris-virginica', 'Iris-virginica', 'Iris-virginica',\n",
       "       'Iris-virginica', 'Iris-virginica', 'Iris-virginica',\n",
       "       'Iris-virginica', 'Iris-virginica', 'Iris-virginica',\n",
       "       'Iris-virginica', 'Iris-virginica', 'Iris-virginica',\n",
       "       'Iris-virginica', 'Iris-virginica', 'Iris-virginica',\n",
       "       'Iris-virginica', 'Iris-virginica'], dtype=object)"
      ]
     },
     "execution_count": 35,
     "metadata": {},
     "output_type": "execute_result"
    }
   ],
   "source": [
    "new_labels = iris[\"Species\"].values\n",
    "new_labels"
   ]
  },
  {
   "cell_type": "code",
   "execution_count": 28,
   "metadata": {
    "collapsed": false
   },
   "outputs": [
    {
     "data": {
      "text/plain": [
       "<function matplotlib.pyplot.show>"
      ]
     },
     "execution_count": 28,
     "metadata": {},
     "output_type": "execute_result"
    },
    {
     "data": {
      "image/png": "[encoded data removed]",
      "text/plain": [
       "<matplotlib.figure.Figure at 0x2107fd41748>"
      ]
     },
     "metadata": {},
     "output_type": "display_data"
    }
   ],
   "source": [
    "plt.clf()\n",
    "dendrogram(data_link,labels = labels)\n",
    "plt.xlabel('Samples')\n",
    "plt.ylabel('Distance')\n",
    "plt.suptitle('Samples clustering', fontweight='bold')  #the dendogram needs to be trunkeded\n",
    "plt.show"
   ]
  },
  {
   "cell_type": "code",
   "execution_count": 36,
   "metadata": {
    "collapsed": false
   },
   "outputs": [
    {
     "data": {
      "image/png": "[encoded data removed]",
      "text/plain": [
       "<matplotlib.figure.Figure at 0x2107fecaac8>"
      ]
     },
     "metadata": {},
     "output_type": "display_data"
    }
   ],
   "source": [
    "plt.title('Hierarchical Clustering Dendrogram (truncated)')\n",
    "dendrogram(\n",
    "    data_link,\n",
    "    truncate_mode='lastp',  # show only the last p merged clusters\n",
    "    p=40,  # show only the last p merged clusters\n",
    "    show_leaf_counts=False,  # otherwise numbers in brackets are counts\n",
    "    leaf_rotation=90.,\n",
    "    leaf_font_size=12.,\n",
    "    show_contracted=True,\n",
    "    labels = new_labels# to get a distribution impression in truncated branches\n",
    ")\n",
    "plt.show()"
   ]
  }
 ],
 "metadata": {
  "anaconda-cloud": {},
  "kernelspec": {
   "display_name": "Python [default]",
   "language": "python",
   "name": "python3"
  },
  "language_info": {
   "codemirror_mode": {
    "name": "ipython",
    "version": 3
   },
   "file_extension": ".py",
   "mimetype": "text/x-python",
   "name": "python",
   "nbconvert_exporter": "python",
   "pygments_lexer": "ipython3",
   "version": "3.5.2"
  }
 },
 "nbformat": 4,
 "nbformat_minor": 1
}
